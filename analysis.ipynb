{
 "cells": [
  {
   "cell_type": "markdown",
   "metadata": {},
   "source": [
    "Most common dangerous permissions and their frequency "
   ]
  },
  {
   "cell_type": "code",
   "execution_count": 3,
   "metadata": {},
   "outputs": [
    {
     "name": "stdout",
     "output_type": "stream",
     "text": [
      "android.permission.POST_NOTIFICATIONS: 28 times - Description: an app to post notifications. Allows an app to post notifications\n",
      "android.permission.WRITE_EXTERNAL_STORAGE: 17 times - Description: external storage contents Allows an application to write to external storage.\n",
      "android.permission.READ_EXTERNAL_STORAGE: 14 times - Description: external storage contents Allows an application to read from external storage.\n",
      "android.permission.ACTIVITY_RECOGNITION: 10 times - Description: application to recognize physical activity Allows an application to recognize physical activity.\n",
      "android.permission.READ_PHONE_STATE: 8 times - Description: phone state and identity Allows the application to access the phone features of the device. An application with this permission can determine the phone number and serial number of this phone, whether a call is active, the number that call is connected to and so on.\n",
      "android.permission.READ_CONTACTS: 8 times - Description: contact data Allows an application to read all of the contact (address) data stored on your phone. Malicious applications can use this to send your data to other people.\n",
      "android.permission.ACCESS_COARSE_LOCATION: 8 times - Description: (network-based) location Access coarse location sources, such as the mobile network database, to determine an approximate phone location, where available. Malicious applications can use this to determine approximately where you are.\n",
      "android.permission.GET_ACCOUNTS: 7 times - Description: accounts Allows access to the list of accounts in the Accounts Service.\n",
      "android.permission.USE_CREDENTIALS: 7 times - Description: the authentication credentials of an account Allows an application to request authentication tokens.\n",
      "android.permission.RECORD_AUDIO: 6 times - Description: audio Allows application to access the audio record path.\n",
      "android.permission.CAMERA: 6 times - Description: pictures and videos Allows application to take pictures and videos with the camera. This allows the application to collect images that the camera is seeing at any time.\n",
      "android.permission.ACCESS_FINE_LOCATION: 6 times - Description: (GPS) location Access fine location sources, such as the Global Positioning System on the phone, where available. Malicious applications can use this to determine where you are and may consume additional battery power.\n",
      "android.permission.READ_MEDIA_IMAGES: 5 times - Description: reading image files from external storage. Allows an application to read image files from external storage.\n",
      "android.permission.BLUETOOTH_SCAN: 4 times - Description: for discovering and pairing Bluetooth devices. Required to be able to discover and pair nearby Bluetooth devices.\n",
      "android.permission.SYSTEM_ALERT_WINDOW: 4 times - Description: system-level alerts Allows an application to show system-alert windows. Malicious applications can take over the entire screen of the phone. PERMISSION STATUS INFO DESCRIPTION\n",
      "com.google.android.gms.permission.ACTIVITY_RECOGNITION: 4 times - Description: application to recognize physical activity Allows an application to recognize physical activity.\n",
      "android.permission.READ_MEDIA_AUDIO: 4 times - Description: reading audio files from external storage. Allows an application to read audio files from external storage.\n",
      "android.permission.BODY_SENSORS: 4 times - Description: access to body sensors, such as heart rate. Allows an application to access data from sensors that the user uses to measure what is happening inside his/her body, such as heart rate.\n",
      "android.permission.READ_PHONE_NUMBERS: 4 times - Description: reading of the device's phone number(s). Allows read access to the device's phone number(s). This is a subset of the capabilities granted by READ_PHONE_STATE but is exposed to instant applications.\n",
      "android.permission.READ_MEDIA_VIDEO: 3 times - Description: reading video files from external storage. Allows an application to read video files from external storage.\n",
      "android.permission.BLUETOOTH_CONNECT: 3 times - Description: for connecting to paired Bluetooth devices. Required to be able to connect to paired Bluetooth devices.\n",
      "android.permission.GET_TASKS: 2 times - Description: running applications Allows application to retrieve information about currently and recently running tasks. May allow malicious applications to discover private information about other applications. com.strava.permission.C2D_MESSAGE unknown Unknown permission Unknown permission from android reference\n",
      "android.permission.READ_PROFILE: 2 times - Description: the user's personal profile data Allows an application to read the user's personal profile data.\n",
      "android.permission.READ_MEDIA_VISUAL_USER_SELECTED: 1 times - Description: reading user- selected image or video files from external storage. Allows an application to read image or video files from external storage that a user has selected via the permission prompt photo picker. Apps can check this permission to verify that a user has decided to use the photo picker, instead of granting access to READ_MEDIA_IMAGES or READ_MEDIA_VIDEO . It does not prevent apps from accessing the standard photo picker manually. This permission should be requested alongside READ_MEDIA_IMAGES and/or READ_MEDIA_VIDEO , depending on which type of media is desired.\n",
      "android.permission.ACCESS_MEDIA_LOCATION: 1 times - Description: any geographic locations Allows an application to access any geographic locations persisted in the user's shared collection.\n",
      "android.permission.MANAGE_ACCOUNTS: 1 times - Description: the accounts list Allows an application to perform operations like adding and removing accounts and deleting their password.\n",
      "android.permission.WRITE_SETTINGS: 1 times - Description: global system settings Allows an application to modify the system's settings data. Malicious applications can corrupt your system's configuration.\n"
     ]
    }
   ],
   "source": [
    "import pandas as pd\n",
    "\n",
    "\n",
    "df = pd.read_csv('permissions.csv')\n",
    "\n",
    "\n",
    "dangerous_permissions = df[df['Status'] == 'dangerous']\n",
    "\n",
    "\n",
    "common_dangerous_permissions = dangerous_permissions['Permission'].value_counts()\n",
    "\n",
    "\n",
    "for permission, count in common_dangerous_permissions.items():\n",
    "    description = dangerous_permissions.loc[dangerous_permissions['Permission'] == permission, 'Description'].iloc[0]\n",
    "    print(f\"{permission}: {count} times - Description: {description}\")\n"
   ]
  },
  {
   "cell_type": "code",
   "execution_count": null,
   "metadata": {},
   "outputs": [],
   "source": []
  }
 ],
 "metadata": {
  "kernelspec": {
   "display_name": "venv",
   "language": "python",
   "name": "python3"
  },
  "language_info": {
   "codemirror_mode": {
    "name": "ipython",
    "version": 3
   },
   "file_extension": ".py",
   "mimetype": "text/x-python",
   "name": "python",
   "nbconvert_exporter": "python",
   "pygments_lexer": "ipython3",
   "version": "3.12.2"
  }
 },
 "nbformat": 4,
 "nbformat_minor": 2
}
